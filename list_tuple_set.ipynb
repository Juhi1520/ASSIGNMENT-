{
 "cells": [
  {
   "cell_type": "code",
   "execution_count": 2,
   "id": "fceed701-0b41-452b-b798-0847d81d13f2",
   "metadata": {},
   "outputs": [],
   "source": [
    "l1 = [\"sudh\", \"name\", \"data science\", \"code\"]"
   ]
  },
  {
   "cell_type": "code",
   "execution_count": 3,
   "id": "aa584c08-37c3-4f4c-a806-44a052dff98a",
   "metadata": {},
   "outputs": [
    {
     "data": {
      "text/plain": [
       "['sudh', 'name', 'data science', 'code']"
      ]
     },
     "execution_count": 3,
     "metadata": {},
     "output_type": "execute_result"
    }
   ],
   "source": [
    "l1"
   ]
  },
  {
   "cell_type": "code",
   "execution_count": 4,
   "id": "9f1c5d41-d443-4780-bcf7-580ff2f71927",
   "metadata": {},
   "outputs": [],
   "source": [
    "l1.sort()"
   ]
  },
  {
   "cell_type": "code",
   "execution_count": 5,
   "id": "a84ce3f2-fbac-4b99-b64c-660277264046",
   "metadata": {},
   "outputs": [
    {
     "data": {
      "text/plain": [
       "['code', 'data science', 'name', 'sudh']"
      ]
     },
     "execution_count": 5,
     "metadata": {},
     "output_type": "execute_result"
    }
   ],
   "source": [
    "l1"
   ]
  },
  {
   "cell_type": "code",
   "execution_count": 7,
   "id": "78bff573-c06f-4057-83e3-8e556e088551",
   "metadata": {},
   "outputs": [],
   "source": [
    " l1.sort(reverse=True)"
   ]
  },
  {
   "cell_type": "code",
   "execution_count": 8,
   "id": "07c90b10-42f4-47df-a45d-224bcba2cbce",
   "metadata": {},
   "outputs": [
    {
     "data": {
      "text/plain": [
       "['sudh', 'name', 'data science', 'code']"
      ]
     },
     "execution_count": 8,
     "metadata": {},
     "output_type": "execute_result"
    }
   ],
   "source": [
    "l1"
   ]
  },
  {
   "cell_type": "code",
   "execution_count": 9,
   "id": "c09b17df-619f-4dd6-b8e9-2da9da5ab694",
   "metadata": {},
   "outputs": [
    {
     "data": {
      "text/plain": [
       "0"
      ]
     },
     "execution_count": 9,
     "metadata": {},
     "output_type": "execute_result"
    }
   ],
   "source": [
    "l1.index(\"sudh\")"
   ]
  },
  {
   "cell_type": "code",
   "execution_count": 10,
   "id": "d9783eef-f925-4b49-9812-19105d290306",
   "metadata": {},
   "outputs": [
    {
     "data": {
      "text/plain": [
       "1"
      ]
     },
     "execution_count": 10,
     "metadata": {},
     "output_type": "execute_result"
    }
   ],
   "source": [
    "l1.count(\"code\")"
   ]
  },
  {
   "cell_type": "code",
   "execution_count": 11,
   "id": "452b5fba-86f2-4af0-a0bf-42d5b31afdaa",
   "metadata": {},
   "outputs": [
    {
     "data": {
      "text/plain": [
       "1"
      ]
     },
     "execution_count": 11,
     "metadata": {},
     "output_type": "execute_result"
    }
   ],
   "source": [
    "l1.count(\"name\")"
   ]
  },
  {
   "cell_type": "code",
   "execution_count": 12,
   "id": "4e9f4e17-0b71-44d0-99a9-6a548871012f",
   "metadata": {},
   "outputs": [],
   "source": [
    "t = (2,3,4,5,\"sudh\",45,56,False,5+7j,[3,4,5])"
   ]
  },
  {
   "cell_type": "code",
   "execution_count": 13,
   "id": "ffeeebff-8185-4dfb-89d5-d748118f12e2",
   "metadata": {},
   "outputs": [
    {
     "data": {
      "text/plain": [
       "(2, 3, 4, 5, 'sudh', 45, 56, False, (5+7j), [3, 4, 5])"
      ]
     },
     "execution_count": 13,
     "metadata": {},
     "output_type": "execute_result"
    }
   ],
   "source": [
    "t"
   ]
  },
  {
   "cell_type": "code",
   "execution_count": 14,
   "id": "88fc2d1e-34df-4b76-ab4e-3de1e0d43a5e",
   "metadata": {},
   "outputs": [
    {
     "data": {
      "text/plain": [
       "tuple"
      ]
     },
     "execution_count": 14,
     "metadata": {},
     "output_type": "execute_result"
    }
   ],
   "source": [
    "type(t)"
   ]
  },
  {
   "cell_type": "code",
   "execution_count": 15,
   "id": "4c036087-59b2-452f-90f6-e85a5b7d3b51",
   "metadata": {},
   "outputs": [
    {
     "data": {
      "text/plain": [
       "10"
      ]
     },
     "execution_count": 15,
     "metadata": {},
     "output_type": "execute_result"
    }
   ],
   "source": [
    "len(t)"
   ]
  },
  {
   "cell_type": "code",
   "execution_count": 16,
   "id": "e77e1302-5c56-4ef1-8ef4-68d53c5ac7f0",
   "metadata": {},
   "outputs": [
    {
     "data": {
      "text/plain": [
       "2"
      ]
     },
     "execution_count": 16,
     "metadata": {},
     "output_type": "execute_result"
    }
   ],
   "source": [
    "t[0]"
   ]
  },
  {
   "cell_type": "code",
   "execution_count": 19,
   "id": "9dbbf0eb-875e-4206-b2ad-bf07730265fd",
   "metadata": {},
   "outputs": [
    {
     "data": {
      "text/plain": [
       "([3, 4, 5], (5+7j), False, 56, 45, 'sudh', 5, 4, 3, 2)"
      ]
     },
     "execution_count": 19,
     "metadata": {},
     "output_type": "execute_result"
    }
   ],
   "source": [
    "t[::-1]"
   ]
  },
  {
   "cell_type": "code",
   "execution_count": 20,
   "id": "e1a5e44f-ddfb-428b-916b-12696469ee21",
   "metadata": {},
   "outputs": [
    {
     "data": {
      "text/plain": [
       "1"
      ]
     },
     "execution_count": 20,
     "metadata": {},
     "output_type": "execute_result"
    }
   ],
   "source": [
    "t.count(5)"
   ]
  },
  {
   "cell_type": "code",
   "execution_count": 21,
   "id": "be586e2b-addc-4f87-839d-bc073e9cf4bb",
   "metadata": {},
   "outputs": [
    {
     "data": {
      "text/plain": [
       "7"
      ]
     },
     "execution_count": 21,
     "metadata": {},
     "output_type": "execute_result"
    }
   ],
   "source": [
    "t.index(False)"
   ]
  },
  {
   "cell_type": "code",
   "execution_count": 22,
   "id": "52c6aebc-fa90-4a1c-958a-7b27f52cff0a",
   "metadata": {},
   "outputs": [],
   "source": [
    "s1 = {}"
   ]
  },
  {
   "cell_type": "code",
   "execution_count": 23,
   "id": "01ff787e-2339-4c10-a713-480c6f4a68aa",
   "metadata": {},
   "outputs": [
    {
     "data": {
      "text/plain": [
       "dict"
      ]
     },
     "execution_count": 23,
     "metadata": {},
     "output_type": "execute_result"
    }
   ],
   "source": [
    "type(s1)"
   ]
  },
  {
   "cell_type": "code",
   "execution_count": 24,
   "id": "65ea31d4-1fb9-426d-ba30-3da0a24cf5d0",
   "metadata": {},
   "outputs": [],
   "source": [
    "s2 = {2,4,55,90,4}"
   ]
  },
  {
   "cell_type": "code",
   "execution_count": 25,
   "id": "8a5b9985-3c0f-45c0-89a9-5a3d272fe4ed",
   "metadata": {},
   "outputs": [
    {
     "data": {
      "text/plain": [
       "set"
      ]
     },
     "execution_count": 25,
     "metadata": {},
     "output_type": "execute_result"
    }
   ],
   "source": [
    "type(s2)"
   ]
  },
  {
   "cell_type": "code",
   "execution_count": 26,
   "id": "91ec0558-f847-4019-a1b7-c81fd7d59696",
   "metadata": {},
   "outputs": [],
   "source": [
    "s3 = {243,456,321,\"sudh\",5+7j,55.70,(3,4,5)}"
   ]
  },
  {
   "cell_type": "code",
   "execution_count": 27,
   "id": "7b2a2ccd-513b-4716-b596-14a264cf6c86",
   "metadata": {},
   "outputs": [
    {
     "data": {
      "text/plain": [
       "{(3, 4, 5), (5+7j), 243, 321, 456, 55.7, 'sudh'}"
      ]
     },
     "execution_count": 27,
     "metadata": {},
     "output_type": "execute_result"
    }
   ],
   "source": [
    "s3"
   ]
  },
  {
   "cell_type": "code",
   "execution_count": 28,
   "id": "437352f0-974f-4b7c-9ab6-9d455e994ed8",
   "metadata": {},
   "outputs": [],
   "source": [
    "s4 = {2,3,4,2,2,4,4,5,6,5,5,5,7,6,7,7}"
   ]
  },
  {
   "cell_type": "code",
   "execution_count": 29,
   "id": "b402488b-80b0-4c15-a03e-1489b1845fa9",
   "metadata": {},
   "outputs": [
    {
     "data": {
      "text/plain": [
       "{2, 3, 4, 5, 6, 7}"
      ]
     },
     "execution_count": 29,
     "metadata": {},
     "output_type": "execute_result"
    }
   ],
   "source": [
    "s4"
   ]
  },
  {
   "cell_type": "code",
   "execution_count": 30,
   "id": "e92f298b-e3fc-4c15-830c-622775f49202",
   "metadata": {},
   "outputs": [],
   "source": [
    "s4.add(8)"
   ]
  },
  {
   "cell_type": "code",
   "execution_count": 31,
   "id": "3eb2d0ad-e869-41a5-9efa-0d40081e1d03",
   "metadata": {},
   "outputs": [
    {
     "data": {
      "text/plain": [
       "{2, 3, 4, 5, 6, 7, 8}"
      ]
     },
     "execution_count": 31,
     "metadata": {},
     "output_type": "execute_result"
    }
   ],
   "source": [
    "s4"
   ]
  },
  {
   "cell_type": "code",
   "execution_count": 32,
   "id": "b289f605-f4ae-4737-936b-6b4785921700",
   "metadata": {},
   "outputs": [],
   "source": [
    "s4.remove(5)"
   ]
  },
  {
   "cell_type": "code",
   "execution_count": 33,
   "id": "6063cff4-1419-48a2-a47c-dfc939182e55",
   "metadata": {},
   "outputs": [
    {
     "data": {
      "text/plain": [
       "{2, 3, 4, 6, 7, 8}"
      ]
     },
     "execution_count": 33,
     "metadata": {},
     "output_type": "execute_result"
    }
   ],
   "source": [
    "s4"
   ]
  },
  {
   "cell_type": "code",
   "execution_count": null,
   "id": "c5ca00da-6a70-447d-8b4b-760ce3b022a2",
   "metadata": {},
   "outputs": [],
   "source": []
  }
 ],
 "metadata": {
  "kernelspec": {
   "display_name": "Python 3 (ipykernel)",
   "language": "python",
   "name": "python3"
  },
  "language_info": {
   "codemirror_mode": {
    "name": "ipython",
    "version": 3
   },
   "file_extension": ".py",
   "mimetype": "text/x-python",
   "name": "python",
   "nbconvert_exporter": "python",
   "pygments_lexer": "ipython3",
   "version": "3.10.8"
  }
 },
 "nbformat": 4,
 "nbformat_minor": 5
}
